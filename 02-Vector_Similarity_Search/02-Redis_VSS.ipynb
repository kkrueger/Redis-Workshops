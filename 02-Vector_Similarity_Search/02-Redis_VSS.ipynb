{
  "cells": [
    {
      "cell_type": "markdown",
      "metadata": {
        "id": "view-in-github",
        "colab_type": "text"
      },
      "source": [
        "<a href=\"https://colab.research.google.com/github/kkrueger/Redis-Workshops/blob/main/02-Vector_Similarity_Search/02-Redis_VSS.ipynb\" target=\"_parent\"><img src=\"https://colab.research.google.com/assets/colab-badge.svg\" alt=\"Open In Colab\"/></a>"
      ]
    },
    {
      "cell_type": "markdown",
      "metadata": {
        "id": "tRlp93K0C1q8"
      },
      "source": [
        "# Vector Similarity Search with Redis\n",
        "\n",
        "[Always-on demo](https://antonum-redis-vss-streamlit-streamlit-app-p4z5th.streamlit.app/)\n",
        "\n",
        "![Redis](https://redis.com/wp-content/themes/wpx/assets/images/logo-redis.svg?auto=webp&quality=85,75&width=120)\n",
        "\n",
        "This notebook generates vector embeddings using the pre-trained `sentence-transformers/all-MiniLM-L6-v2` model from HuggingFace, loads them to Redis and runs Vector Similarity searches against Redis database."
      ]
    },
    {
      "cell_type": "code",
      "execution_count": null,
      "metadata": {
        "id": "H-9YfABV3_1z"
      },
      "outputs": [],
      "source": [
        "#install Redis client and Hugging Face sentence transformers\n",
        "!pip install -q redis sentence_transformers"
      ]
    },
    {
      "cell_type": "markdown",
      "metadata": {
        "id": "8Nkcsc8ceWpS"
      },
      "source": [
        "Install Redis Stack locally"
      ]
    },
    {
      "cell_type": "code",
      "execution_count": null,
      "metadata": {
        "id": "nofqstGujZSE"
      },
      "outputs": [],
      "source": [
        "%%sh\n",
        "curl -fsSL https://packages.redis.io/gpg | sudo gpg --dearmor -o /usr/share/keyrings/redis-archive-keyring.gpg\n",
        "echo \"deb [signed-by=/usr/share/keyrings/redis-archive-keyring.gpg] https://packages.redis.io/deb $(lsb_release -cs) main\" | sudo tee /etc/apt/sources.list.d/redis.list\n",
        "sudo apt-get update  > /dev/null 2>&1\n",
        "sudo apt-get install redis-stack-server  > /dev/null 2>&1\n",
        "redis-stack-server --daemonize yes\n"
      ]
    },
    {
      "cell_type": "markdown",
      "metadata": {
        "id": "YhS6htjOCxr_"
      },
      "source": [
        "### Connect to the Redis server"
      ]
    },
    {
      "cell_type": "code",
      "execution_count": null,
      "metadata": {
        "id": "2UxA0cSkBYgo"
      },
      "outputs": [],
      "source": [
        "import os\n",
        "import redis\n",
        "REDIS_HOST = os.getenv(\"REDIS_HOST\", \"localhost\")\n",
        "REDIS_PORT = os.getenv(\"REDIS_PORT\", \"6379\")\n",
        "REDIS_PASSWORD = os.getenv(\"REDIS_PASSWORD\", \"\")\n",
        "#Replace values above with your own if using Redis Cloud instance\n",
        "#REDIS_HOST=\"redis-12110.c82.us-east-1-2.ec2.cloud.redislabs.com\"\n",
        "#REDIS_PORT=12110\n",
        "#REDIS_PASSWORD=\"pobhBJP7Psicp2gV0iqa2ZOc1WdXXXXX\"\n",
        "\n",
        "#shortcut for redis-cli $REDIS_CONN command\n",
        "if REDIS_PASSWORD!=\"\":\n",
        "  os.environ[\"REDIS_CONN\"]=f\"-h {REDIS_HOST} -p {REDIS_PORT} -a {REDIS_PASSWORD} --no-auth-warning\"\n",
        "else:\n",
        "  os.environ[\"REDIS_CONN\"]=f\"-h {REDIS_HOST} -p {REDIS_PORT}\"\n",
        "redis = redis.Redis(\n",
        "  host=REDIS_HOST,\n",
        "  port=REDIS_PORT,\n",
        "  password=REDIS_PASSWORD)\n",
        "redis.ping()"
      ]
    },
    {
      "cell_type": "code",
      "execution_count": null,
      "metadata": {
        "id": "OsJLTPAb36Z3"
      },
      "outputs": [],
      "source": [
        "import pandas as pd\n",
        "import numpy as np\n",
        "from sentence_transformers import SentenceTransformer\n",
        "from tqdm.auto import tqdm\n",
        "from redis import Redis\n",
        "from redis.commands.search.field import (\n",
        "    NumericField,\n",
        "    TagField,\n",
        "    TextField,\n",
        "    VectorField,\n",
        ")\n",
        "from redis.commands.search.indexDefinition import IndexDefinition, IndexType\n",
        "from redis.commands.search.query import Query\n",
        "\n",
        "\n",
        "tqdm.pandas()\n",
        "\n"
      ]
    },
    {
      "cell_type": "markdown",
      "metadata": {
        "id": "Gz5QOrxWCFd8"
      },
      "source": [
        "### Embedding generation model\n",
        "\n",
        "Here we are using `sentence-transformers/all-MiniLM-L6-v2` from HuggingFace. https://huggingface.co/sentence-transformers/all-MiniLM-L6-v2\n",
        "\n"
      ]
    },
    {
      "cell_type": "code",
      "execution_count": null,
      "metadata": {
        "id": "QEXNz8-TCEfA"
      },
      "outputs": [],
      "source": [
        "model = SentenceTransformer('sentence-transformers/all-MiniLM-L6-v2')"
      ]
    },
    {
      "cell_type": "markdown",
      "metadata": {
        "id": "hJBWKmOykJRT"
      },
      "source": [
        "Download 12k+ tweets"
      ]
    },
    {
      "cell_type": "code",
      "execution_count": null,
      "metadata": {
        "id": "Yw4PTJI_Hsdn"
      },
      "outputs": [],
      "source": [
        "!wget https://raw.githubusercontent.com/antonum/Redis-VSS-Streamlit/main/Labelled_Tweets.csv"
      ]
    },
    {
      "cell_type": "code",
      "execution_count": null,
      "metadata": {
        "id": "EFy8uuJH6nh3"
      },
      "outputs": [],
      "source": [
        "df = pd.read_csv('Labelled_Tweets.csv').drop(columns=['created_at','score'])\n",
        "#df=df.head(3000) #trim dataframe to fit results into 30MB Redis database\n",
        "df\n"
      ]
    },
    {
      "cell_type": "markdown",
      "metadata": {
        "id": "xTslHIdJkZJh"
      },
      "source": [
        "### Generate Embeddings\n",
        "\n",
        "Generate vector embeddings within the dataframe. This step can take 2-3 minutes on GPU runtime for all 12k records."
      ]
    },
    {
      "cell_type": "code",
      "execution_count": null,
      "metadata": {
        "id": "hr4O80YemL_z"
      },
      "outputs": [],
      "source": [
        "def text_to_embedding(text):\n",
        "  return model.encode(text).astype(np.float32).tobytes()\n",
        "\n",
        "#generate vector embeddings\n",
        "df[\"text_embedding\"] = df[\"full_text\"].progress_apply(text_to_embedding)\n",
        "df.head()"
      ]
    },
    {
      "cell_type": "markdown",
      "metadata": {
        "id": "E101rw12ksSa"
      },
      "source": [
        "### Create Helper Functions\n",
        "\n",
        "- Save dataframe to Redis HASH\n",
        "- Create RediSearch Index"
      ]
    },
    {
      "cell_type": "code",
      "execution_count": null,
      "metadata": {
        "id": "HIzOD70FQOPt"
      },
      "outputs": [],
      "source": [
        "def load_dataframe(redis, df, key_prefix=\"tweet\", id_column=\"id\", pipe_size=100):\n",
        "    records = df.to_dict(orient=\"records\")\n",
        "    pipe = redis.pipeline()\n",
        "    i=1\n",
        "    for record in tqdm(records):\n",
        "        i=i+1\n",
        "        key = f\"{key_prefix}:{record[id_column]}\"\n",
        "        pipe.hset(key, mapping=record)\n",
        "        if (i+1) % pipe_size == 0:\n",
        "          res=pipe.execute()\n",
        "    pipe.execute()\n",
        "\n",
        "def create_redis_index(redis, idxname=\"tweet:idx\"):\n",
        "  try:\n",
        "    redis.ft(idxname).dropindex()\n",
        "  except:\n",
        "    print(\"no index found\")\n",
        "\n",
        "  # Create an index\n",
        "  indexDefinition = IndexDefinition(\n",
        "      prefix=[\"tweet:\"],\n",
        "      index_type=IndexType.HASH,\n",
        "  )\n",
        "\n",
        "  redis.ft(idxname).create_index(\n",
        "      (\n",
        "          TextField(\"full_text\", no_stem=False, sortable=False),\n",
        "          VectorField(\"text_embedding\", \"HNSW\", {  \"TYPE\": \"FLOAT32\",\n",
        "                                                    \"DIM\": 384,\n",
        "                                                    \"DISTANCE_METRIC\": \"COSINE\",\n",
        "                                                  })\n",
        "      ),\n",
        "      definition=indexDefinition\n",
        "  )\n",
        "\n"
      ]
    },
    {
      "cell_type": "markdown",
      "metadata": {
        "id": "Bpz-BT2qBqsg"
      },
      "source": [
        "### Create index and load data to Redis"
      ]
    },
    {
      "cell_type": "code",
      "execution_count": null,
      "metadata": {
        "id": "i3l3Jm1KVeQq"
      },
      "outputs": [],
      "source": [
        "# clear Redis database (optional)\n",
        "redis.flushdb()\n",
        "\n",
        "# create Index\n",
        "create_redis_index(redis)\n",
        "\n",
        "# load data from Dataframe to Redis HASH\n",
        "load_dataframe(redis,df,key_prefix=\"tweet\", pipe_size=100)\n"
      ]
    },
    {
      "cell_type": "code",
      "execution_count": null,
      "metadata": {
        "id": "uXhqWfKgJqcv"
      },
      "outputs": [],
      "source": [
        "#Check how the data is stored in Redis\n",
        "!redis-cli $REDIS_CONN hgetall \"tweet:1001\""
      ]
    },
    {
      "cell_type": "markdown",
      "metadata": {
        "id": "ovtxchAGEG9t"
      },
      "source": [
        "## Query the database\n",
        "\n",
        "[Alway-on Streamlit app](https://antonum-redis-vss-streamlit-streamlit-app-p4z5th.streamlit.app/)\n",
        "\n",
        "\n",
        "Try queries like:\n",
        "“Oil”, “Oil Reserves”, “Fossil fuels”\n",
        "\n",
        "Lexical Full Text search quickly runs out of matches\n",
        "\n",
        "Vector search continues to discover relevant tweets"
      ]
    },
    {
      "cell_type": "code",
      "execution_count": null,
      "metadata": {
        "id": "koOnsz_NqUje"
      },
      "outputs": [],
      "source": [
        "user_query=\"oil price\"\n",
        "# queries to try \"oil reserve\", \"fossil fuels\""
      ]
    },
    {
      "cell_type": "code",
      "execution_count": null,
      "metadata": {
        "id": "629GJ972qnAP"
      },
      "outputs": [],
      "source": [
        "#using Full Text Index\n",
        "q = Query(user_query)\\\n",
        "  .return_fields(\"full_text\")\n",
        "res = redis.ft(\"tweet:idx\").search(q)\n",
        "if res.total==0:\n",
        "  print(\"No matches found\")\n",
        "else:\n",
        "  res_df = pd.DataFrame([t.__dict__ for t in res.docs ]).drop(columns=[\"payload\"])\n",
        "  display(res_df)"
      ]
    },
    {
      "cell_type": "code",
      "execution_count": null,
      "metadata": {
        "id": "PNZk10z9x4CD"
      },
      "outputs": [],
      "source": [
        "#using Vector Similarity Index\n",
        "query_vector=text_to_embedding(user_query)\n",
        "q = Query(\"*=>[KNN 10 @text_embedding $vector AS result_score]\")\\\n",
        "                .return_fields(\"result_score\",\"full_text\")\\\n",
        "                .dialect(2)\\\n",
        "                .sort_by(\"result_score\", True)\n",
        "res = redis.ft(\"tweet:idx\").search(q, query_params={\"vector\": query_vector})\n",
        "#print(res)\n",
        "res_df = pd.DataFrame([t.__dict__ for t in res.docs ]).drop(columns=[\"payload\"])\n",
        "res_df"
      ]
    }
  ],
  "metadata": {
    "accelerator": "GPU",
    "colab": {
      "provenance": [],
      "include_colab_link": true
    },
    "gpuClass": "standard",
    "kernelspec": {
      "display_name": "Python 3",
      "name": "python3"
    },
    "language_info": {
      "name": "python"
    }
  },
  "nbformat": 4,
  "nbformat_minor": 0
}