{
  "cells": [
    {
      "cell_type": "markdown",
      "metadata": {
        "id": "view-in-github",
        "colab_type": "text"
      },
      "source": [
        "<a href=\"https://colab.research.google.com/github/kkrueger/Redis-Workshops/blob/main/01-RedisJSON_Search/01-RedisJSON_Search.ipynb\" target=\"_parent\"><img src=\"https://colab.research.google.com/assets/colab-badge.svg\" alt=\"Open In Colab\"/></a>"
      ]
    },
    {
      "cell_type": "markdown",
      "metadata": {
        "id": "LDFnzeLwjmXL"
      },
      "source": [
        "# RedisJSON and RediSearch\n",
        "\n",
        "![Redis](https://redis.com/wp-content/themes/wpx/assets/images/logo-redis.svg?auto=webp&quality=85,75&width=120)\n",
        "\n",
        "This notebook is an adapted and simplified version of the RedisInsight QuickGuide \"Working with JSON\".\n",
        "\n",
        "For the full experience we'd recommend installing RedisInsight and going through tutorial there.\n",
        "\n",
        "https://redis.com/redis-enterprise/redis-insight/"
      ]
    },
    {
      "cell_type": "code",
      "execution_count": null,
      "metadata": {
        "id": "maAiICvM-cTX"
      },
      "outputs": [],
      "source": [
        "# Install the requirements\n",
        "!pip install -q redis"
      ]
    },
    {
      "cell_type": "code",
      "execution_count": null,
      "metadata": {
        "id": "6CjMuWlOxYoZ"
      },
      "outputs": [],
      "source": [
        "%%sh\n",
        "curl -fsSL https://packages.redis.io/gpg | sudo gpg --dearmor -o /usr/share/keyrings/redis-archive-keyring.gpg\n",
        "echo \"deb [signed-by=/usr/share/keyrings/redis-archive-keyring.gpg] https://packages.redis.io/deb $(lsb_release -cs) main\" | sudo tee /etc/apt/sources.list.d/redis.list\n",
        "sudo apt-get update  > /dev/null 2>&1\n",
        "sudo apt-get install redis-stack-server  > /dev/null 2>&1\n",
        "redis-stack-server --daemonize yes\n"
      ]
    },
    {
      "cell_type": "code",
      "execution_count": null,
      "metadata": {
        "id": "zfpejTkuASuZ"
      },
      "outputs": [],
      "source": [
        "import redis\n",
        "import os\n"
      ]
    },
    {
      "cell_type": "code",
      "execution_count": null,
      "metadata": {
        "id": "x47s7mlR_zYB"
      },
      "outputs": [],
      "source": [
        "REDIS_HOST = os.getenv(\"REDIS_HOST\", \"localhost\")\n",
        "REDIS_PORT = os.getenv(\"REDIS_PORT\", \"6379\")\n",
        "REDIS_PASSWORD = os.getenv(\"REDIS_PASSWORD\", \"\")\n",
        "#Replace values above with your own if using Redis Cloud instance\n",
        "#REDIS_HOST=\"redis-12110.c82.us-east-1-2.ec2.cloud.redislabs.com\"\n",
        "#REDIS_PORT=12110\n",
        "#REDIS_PASSWORD=\"pobhBJP7Psicp2gV0iqa2ZOc1XXXXXX\"\n",
        "\n",
        "#shortcut for redis-cli $REDIS_CONN command\n",
        "if REDIS_PASSWORD!=\"\":\n",
        "  os.environ[\"REDIS_CONN\"]=f\"-h {REDIS_HOST} -p {REDIS_PORT} -a {REDIS_PASSWORD} --no-auth-warning\"\n",
        "else:\n",
        "  os.environ[\"REDIS_CONN\"]=f\"-h {REDIS_HOST} -p {REDIS_PORT}\""
      ]
    },
    {
      "cell_type": "code",
      "execution_count": null,
      "metadata": {
        "id": "DbKb8mnWQO-5"
      },
      "outputs": [],
      "source": [
        "r = redis.Redis(\n",
        "  host=REDIS_HOST,\n",
        "  port=REDIS_PORT,\n",
        "  password=REDIS_PASSWORD)\n",
        "r.ping()"
      ]
    },
    {
      "cell_type": "markdown",
      "metadata": {
        "id": "x1V1E2Nmjva4"
      },
      "source": [
        "## RedisJSON\n",
        "\n",
        "RedisJSON adds JSON data type to Redis so you can work with JSON data natively in Redis, without treating the entire JSON as one big string and constantly serializing/deserializing JSON on the client.\n",
        "\n",
        "With fluent library like Python you can use commands like `redis.json().get()` and `redis.json().get()` and in Redis CLI `JSON.GET`, `JSON.SET` and others.\n",
        "\n",
        "See the full list of RedisJSON commands here: https://redis.io/commands/?group=json\n",
        "\n",
        "Python documentation: https://redis-py.readthedocs.io/en/stable/redismodules.html#redisjson-commands\n"
      ]
    },
    {
      "cell_type": "code",
      "execution_count": null,
      "metadata": {
        "id": "dMtz_Ak7VOTk"
      },
      "outputs": [],
      "source": [
        "schools = [\n",
        "    {\"name\":\"Hall School\",\"description\":\"Spanning 10 states, this school award-winning curriculum includes a comprehensive reading system (from letter recognition and phonics to reading full-length books), as well as math, science, social studies, and even  philosophy.\",\"class\":\"independent\",\"type\":[\"traditional\"],\"address\":{\"city\":\"London\",\"street\":\"Manor Street\"},\"students\":342,\"location\":\"51.445417, -0.258352\",\"status_log\":[\"new\",\"operating\"]},\n",
        "    {\"name\":\"Garden School\",\"description\":\"Garden School is a new and innovative outdoor teaching and learning experience, offering rich and varied activities in a natural environment to children and families.\",\"class\":\"state\",\"type\":[\"forest\",\"montessori\"],\"address\":{\"city\":\"London\",\"street\":\"Gordon Street\"},\"students\":1452,\"location\":\"51.402926, -0.321523\",\"status_log\":[\"new\",\"operating\"]},\n",
        "    {\"name\":\"Gillford School\",\"description\":\"Gillford School is an inclusive learning centre welcoming people from all walks of life, here invited to step into their role as regenerative agents, creating new pathways into the future and inciting an international movement of cultural, land, and social transformation.\",\"class\":\"private\",\"type\":[\"democratic\",\"waldorf\"],\"address\":{\"city\":\"Goudhurst\",\"street\":\"Goudhurst\"},\"students\":721,\"location\":\"51.112685, 0.451076\",\"status_log\":[\"new\",\"operating\",\"closed\"]},\n",
        "    {\"name\":\"Forest School\",\"description\":\"The philosophy behind Forest School is based upon the desire to provide young children with an education that encourages appreciation of the wide world in nature while achieving independence, confidence and high self-esteem. \",\"class\":\"independent\",\"type\":[\"forest\",\"montessori\",\"democratic\"],\"address\":{\"city\":\"Oxford\",\"street\":\"Trident Street\"},\"students\":1200,\"location\":\"51.781756, -1.123196\",\"status_log\":[\"new\",\"operating\"]}\n",
        "    ]\n",
        "#load data in Redis as JSON\n",
        "for id,school in enumerate(schools):\n",
        "    #print(school)\n",
        "    r.json().set(f\"school_json:{id}\", '.', school)"
      ]
    },
    {
      "cell_type": "code",
      "execution_count": null,
      "metadata": {
        "id": "5NtYQYlPXCIO"
      },
      "outputs": [],
      "source": [
        "!redis-cli $REDIS_CONN JSON.GET school_json:1 $\n",
        "!redis-cli $REDIS_CONN keys 'school_json:*'"
      ]
    },
    {
      "cell_type": "code",
      "execution_count": null,
      "metadata": {
        "id": "TaXmD2TFap-t"
      },
      "outputs": [],
      "source": [
        "#retrieve entire JSON\n",
        "res=r.json().get('school_json:0','$')\n",
        "print(res)\n"
      ]
    },
    {
      "cell_type": "code",
      "execution_count": null,
      "metadata": {
        "id": "PUfj0epdWGbz"
      },
      "outputs": [],
      "source": [
        "#retrieve single property\n",
        "res=r.json().get('school_json:0','$.name')\n",
        "print(res)\n",
        "\n",
        "#TODO: Try modifying this line to retreive:\n",
        "# - Embedded object ($.address)\n",
        "# - Element of the array \"$.status_log[0]\":"
      ]
    },
    {
      "cell_type": "code",
      "execution_count": null,
      "metadata": {
        "id": "u9kw-6QdbfpV"
      },
      "outputs": [],
      "source": [
        "# Read number of students\n",
        "students=r.json().get('school_json:0','$.students')\n",
        "print(students)\n",
        "#set new number\n",
        "r.json().set('school_json:0','$.students',350)\n",
        "r.json().get('school_json:0','$.students')"
      ]
    },
    {
      "cell_type": "code",
      "execution_count": null,
      "metadata": {
        "id": "09i6hh4acIh_"
      },
      "outputs": [],
      "source": [
        "#atomic increment for number of students\n",
        "r.json().numincrby('school_json:0','$.students',1)"
      ]
    },
    {
      "cell_type": "markdown",
      "metadata": {
        "id": "jpJW1d87lIJr"
      },
      "source": [
        "## RediSearch\n",
        "\n",
        "RediSearch adds the ability to query data in your HASH or JSON data structures, essentially turning Redis into a docuemnt database.\n",
        "\n",
        "With RediSearch you declare indices once and then every database object matching the prefix, defined in the index would be automatically and in real time added to the index.\n",
        "\n",
        "For the full list of RediSearch commands see: https://redis.io/commands/?group=search\n",
        "\n",
        "Python documentation: https://redis-py.readthedocs.io/en/stable/redismodules.html#redisearch-commands"
      ]
    },
    {
      "cell_type": "code",
      "execution_count": null,
      "metadata": {
        "id": "O_2g-lCadPsB"
      },
      "outputs": [],
      "source": [
        "from redis.commands.search.field import (\n",
        "    NumericField,\n",
        "    TagField,\n",
        "    TextField,\n",
        "    VectorField,\n",
        ")\n",
        "from redis.commands.search.indexDefinition import IndexDefinition, IndexType\n",
        "from redis.commands.search.query import Query\n",
        "schema = (\n",
        "    TextField(\"$.name\", as_name=\"name\"),\n",
        "    TextField(\"$.description\", as_name=\"description\"),\n",
        "    TagField(\"$.address.city\", as_name=\"city\"),\n",
        "    NumericField(\"$.students\", as_name=\"students\")\n",
        "    )\n",
        "r.ft(\"idx:schools_json\").create_index(schema,\n",
        "                    definition=IndexDefinition(prefix=[\"school_json:\"],\n",
        "                    index_type=IndexType.JSON)\n",
        "                    )"
      ]
    },
    {
      "cell_type": "code",
      "execution_count": null,
      "metadata": {
        "id": "PKMJeXfpe9Xp"
      },
      "outputs": [],
      "source": [
        "import pandas as pd\n",
        "#return the entire document\n",
        "res=r.ft(\"idx:schools_json\").search(\"nature\")\n",
        "res_df = pd.DataFrame([t.__dict__ for t in res.docs ])\n",
        "res_df"
      ]
    },
    {
      "cell_type": "code",
      "execution_count": null,
      "metadata": {
        "id": "OGKiSpQ-hUMp"
      },
      "outputs": [],
      "source": [
        "#return selected fields only\n",
        "query=Query(\"nature\") \\\n",
        "   .return_field(\"$.address.city\", as_field=\"city\") \\\n",
        "   .return_field(\"$.name\", as_field=\"name\")\n",
        "res=r.ft(\"idx:schools_json\").search(query)\n",
        "res_df = pd.DataFrame([t.__dict__ for t in res.docs ])\n",
        "res_df"
      ]
    },
    {
      "cell_type": "code",
      "execution_count": null,
      "metadata": {
        "id": "yMK3P7g5j7v5"
      },
      "outputs": [],
      "source": [
        "#Multi-field query\n",
        "query=Query('@city:{London} @students:[0, 10000]') \\\n",
        "   .return_field(\"$.address.city\", as_field=\"city\") \\\n",
        "   .return_field(\"$.name\", as_field=\"name\") \\\n",
        "   .return_field(\"$.students\", as_field=\"students\")\n",
        "res=r.ft(\"idx:schools_json\").search(query)\n",
        "#print(res)\n",
        "res_df = pd.DataFrame([t.__dict__ for t in res.docs ])\n",
        "res_df\n"
      ]
    }
  ],
  "metadata": {
    "colab": {
      "provenance": [],
      "include_colab_link": true
    },
    "kernelspec": {
      "display_name": "Python 3",
      "name": "python3"
    },
    "language_info": {
      "name": "python"
    }
  },
  "nbformat": 4,
  "nbformat_minor": 0
}