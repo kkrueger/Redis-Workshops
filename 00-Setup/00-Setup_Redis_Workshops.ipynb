{
  "cells": [
    {
      "cell_type": "markdown",
      "metadata": {
        "id": "view-in-github",
        "colab_type": "text"
      },
      "source": [
        "<a href=\"https://colab.research.google.com/github/kkrueger/Redis-Workshops/blob/main/00-Setup/00-Setup_Redis_Workshops.ipynb\" target=\"_parent\"><img src=\"https://colab.research.google.com/assets/colab-badge.svg\" alt=\"Open In Colab\"/></a>"
      ]
    },
    {
      "cell_type": "markdown",
      "metadata": {
        "id": "MvZnhXr0L3K3"
      },
      "source": [
        "# Setup Redis Workshop\n",
        "\n",
        "![Redis](https://redis.com/wp-content/themes/wpx/assets/images/logo-redis.svg?auto=webp&quality=85,75&width=120)\n",
        "\n",
        "This notebook, as most of the notebooks in this series, is designed to run either with built-in Redis Stack or Redis Cloud.\n",
        "\n",
        "To provision free forever instance of Redis Cloud:\n",
        "- Head to https://redis.com/try-free/\n",
        "- Register with email/gmail\n",
        "- Create **Fixed** subscription with 30MB free tier (no credit card required)\n",
        "- Create Redis Stack Database"
      ]
    },
    {
      "cell_type": "code",
      "execution_count": null,
      "metadata": {
        "id": "maAiICvM-cTX"
      },
      "outputs": [],
      "source": [
        "# Install the requirements\n",
        "!pip install -q redis"
      ]
    },
    {
      "cell_type": "markdown",
      "metadata": {
        "id": "yO8o80_fM5cG"
      },
      "source": [
        "### Install Redis Stack locally\n",
        "\n",
        "Even if you are using Redis Cloud you might need to install Redis Stack just for the cli tool `redis-cli`."
      ]
    },
    {
      "cell_type": "code",
      "execution_count": null,
      "metadata": {
        "id": "6CjMuWlOxYoZ"
      },
      "outputs": [],
      "source": [
        "%%sh\n",
        "curl -fsSL https://packages.redis.io/gpg | sudo gpg --dearmor -o /usr/share/keyrings/redis-archive-keyring.gpg\n",
        "echo \"deb [signed-by=/usr/share/keyrings/redis-archive-keyring.gpg] https://packages.redis.io/deb $(lsb_release -cs) main\" | sudo tee /etc/apt/sources.list.d/redis.list\n",
        "sudo apt-get update  > /dev/null 2>&1\n",
        "sudo apt-get install redis-stack-server  > /dev/null 2>&1\n",
        "redis-stack-server --daemonize yes\n"
      ]
    },
    {
      "cell_type": "markdown",
      "metadata": {
        "id": "pD9QIlpeKs3o"
      },
      "source": [
        "### Setup Redis connection\n",
        "No changes are needed if you are using in-notebook locally installed Redis Stack. If using Redis Cloud - enter your endpoint host, port and credentials here."
      ]
    },
    {
      "cell_type": "code",
      "execution_count": null,
      "metadata": {
        "id": "x47s7mlR_zYB"
      },
      "outputs": [],
      "source": [
        "import redis\n",
        "import os\n",
        "REDIS_HOST = os.getenv(\"REDIS_HOST\", \"localhost\")\n",
        "REDIS_PORT = os.getenv(\"REDIS_PORT\", \"6379\")\n",
        "REDIS_PASSWORD = os.getenv(\"REDIS_PASSWORD\", \"\")\n",
        "#Replace values above with your own if using Redis Cloud instance\n",
        "#REDIS_HOST=\"redis-17231.c228.us-central1-1.gce.cloud.redislabs.com\"\n",
        "#REDIS_PORT=17231\n",
        "#REDIS_PASSWORD=\"0XKOePIFBCtuNvV6PhsXl3ysQY6XXXX\"\n",
        "\n",
        "#shortcut for redis-cli $REDIS_CONN command\n",
        "if REDIS_PASSWORD!=\"\":\n",
        "  os.environ[\"REDIS_CONN\"]=f\"-h {REDIS_HOST} -p {REDIS_PORT} -a {REDIS_PASSWORD} --no-auth-warning\"\n",
        "else:\n",
        "  os.environ[\"REDIS_CONN\"]=f\"-h {REDIS_HOST} -p {REDIS_PORT}\""
      ]
    },
    {
      "cell_type": "markdown",
      "metadata": {
        "id": "Mnyz8NjaNz8T"
      },
      "source": [
        "### Basic Test with Redis CLI"
      ]
    },
    {
      "cell_type": "code",
      "execution_count": null,
      "metadata": {
        "id": "6FFP3eCRBTzk"
      },
      "outputs": [],
      "source": [
        "!redis-cli $REDIS_CONN PING\n",
        "!redis-cli $REDIS_CONN SET hello world\n",
        "!redis-cli $REDIS_CONN GET hello"
      ]
    },
    {
      "cell_type": "markdown",
      "metadata": {
        "id": "CXEoNDpHN5WU"
      },
      "source": [
        "### Basic Test with Python client"
      ]
    },
    {
      "cell_type": "code",
      "execution_count": null,
      "metadata": {
        "id": "DbKb8mnWQO-5"
      },
      "outputs": [],
      "source": [
        "r = redis.Redis(\n",
        "  host=REDIS_HOST,\n",
        "  port=REDIS_PORT,\n",
        "  password=REDIS_PASSWORD)\n",
        "\n",
        "r.get(\"hello\")"
      ]
    },
    {
      "cell_type": "markdown",
      "metadata": {
        "id": "zR1iwtIVPDQB"
      },
      "source": [
        "### TTL - Time To Live\n",
        "\n",
        "For Caching systems it's extremely important to control for how long value will be cached. Redis allows you to control it with flags like EX, EXAT etc. For more information see https://redis.io/commands/set/"
      ]
    },
    {
      "cell_type": "code",
      "execution_count": null,
      "metadata": {
        "id": "PlVwgknTODE1"
      },
      "outputs": [],
      "source": [
        "import time\n",
        "r.set(name=\"ttl_key\", value=\"this key will expire soon\", ex=10)\n",
        "for i in range(15):\n",
        "  print(r.get(name=\"ttl_key\"))\n",
        "  time.sleep(1)"
      ]
    }
  ],
  "metadata": {
    "colab": {
      "provenance": [],
      "include_colab_link": true
    },
    "kernelspec": {
      "display_name": "Python 3",
      "name": "python3"
    },
    "language_info": {
      "name": "python"
    }
  },
  "nbformat": 4,
  "nbformat_minor": 0
}