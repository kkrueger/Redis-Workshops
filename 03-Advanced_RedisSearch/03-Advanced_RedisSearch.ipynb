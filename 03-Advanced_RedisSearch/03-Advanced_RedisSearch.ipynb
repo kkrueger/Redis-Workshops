{
  "cells": [
    {
      "cell_type": "markdown",
      "metadata": {
        "id": "view-in-github",
        "colab_type": "text"
      },
      "source": [
        "<a href=\"https://colab.research.google.com/github/kkrueger/Redis-Workshops/blob/main/03-Advanced_RedisSearch/03-Advanced_RedisSearch.ipynb\" target=\"_parent\"><img src=\"https://colab.research.google.com/assets/colab-badge.svg\" alt=\"Open In Colab\"/></a>"
      ]
    },
    {
      "cell_type": "markdown",
      "metadata": {
        "id": "LDFnzeLwjmXL"
      },
      "source": [
        "# Advanced RediSearch\n",
        "\n",
        "![Redis](https://redis.com/wp-content/themes/wpx/assets/images/logo-redis.svg?auto=webp&quality=85,75&width=120)\n",
        "\n",
        "This notebook is an adapted and simplified version of the RedisInsight QuickGuide \"Working with Hashes\".\n",
        "\n",
        "For the full exterience we'd recommend installing RedisInsight and going through tutorial there.\n",
        "\n",
        "https://redis.com/redis-enterprise/redis-insight/"
      ]
    },
    {
      "cell_type": "code",
      "execution_count": null,
      "metadata": {
        "id": "maAiICvM-cTX"
      },
      "outputs": [],
      "source": [
        "# Install the requirements\n",
        "!pip install -q redis"
      ]
    },
    {
      "cell_type": "code",
      "execution_count": null,
      "metadata": {
        "id": "6CjMuWlOxYoZ"
      },
      "outputs": [],
      "source": [
        "%%sh\n",
        "curl -fsSL https://packages.redis.io/gpg | sudo gpg --dearmor -o /usr/share/keyrings/redis-archive-keyring.gpg\n",
        "echo \"deb [signed-by=/usr/share/keyrings/redis-archive-keyring.gpg] https://packages.redis.io/deb $(lsb_release -cs) main\" | sudo tee /etc/apt/sources.list.d/redis.list\n",
        "sudo apt-get update  > /dev/null 2>&1\n",
        "sudo apt-get install redis-stack-server  > /dev/null 2>&1\n",
        "redis-stack-server --daemonize yes\n"
      ]
    },
    {
      "cell_type": "code",
      "execution_count": null,
      "metadata": {
        "id": "zfpejTkuASuZ"
      },
      "outputs": [],
      "source": [
        "import redis\n",
        "import os\n"
      ]
    },
    {
      "cell_type": "code",
      "execution_count": null,
      "metadata": {
        "id": "x47s7mlR_zYB"
      },
      "outputs": [],
      "source": [
        "REDIS_HOST = os.getenv(\"REDIS_HOST\", \"localhost\")\n",
        "REDIS_PORT = os.getenv(\"REDIS_PORT\", \"6379\")\n",
        "REDIS_PASSWORD = os.getenv(\"REDIS_PASSWORD\", \"\")\n",
        "#Replace values above with your own if using Redis Cloud instance\n",
        "#REDIS_HOST=\"redis-12110.c82.us-east-1-2.ec2.cloud.redislabs.com\"\n",
        "#REDIS_PORT=12110\n",
        "#REDIS_PASSWORD=\"pobhBJP7Psicp2gV0iqa2ZOc1XXXXXX\"\n",
        "\n",
        "#shortcut for redis-cli $REDIS_CONN command\n",
        "if REDIS_PASSWORD!=\"\":\n",
        "  os.environ[\"REDIS_CONN\"]=f\"-h {REDIS_HOST} -p {REDIS_PORT} -a {REDIS_PASSWORD} --no-auth-warning\"\n",
        "else:\n",
        "  os.environ[\"REDIS_CONN\"]=f\"-h {REDIS_HOST} -p {REDIS_PORT}\""
      ]
    },
    {
      "cell_type": "code",
      "execution_count": null,
      "metadata": {
        "id": "DbKb8mnWQO-5"
      },
      "outputs": [],
      "source": [
        "r = redis.Redis(\n",
        "  host=REDIS_HOST,\n",
        "  port=REDIS_PORT,\n",
        "  password=REDIS_PASSWORD)\n",
        "r.ping()"
      ]
    },
    {
      "cell_type": "markdown",
      "metadata": {
        "id": "x1V1E2Nmjva4"
      },
      "source": [
        "## Redis Hashes\n",
        "\n",
        "Hash is a fundamental Redis datatype.\n",
        "\n",
        "\n",
        "See full list of Redis HASH commands here: https://redis.io/commands/?group=hash\n",
        "\n",
        "\n"
      ]
    },
    {
      "cell_type": "code",
      "execution_count": null,
      "metadata": {
        "id": "dMtz_Ak7VOTk"
      },
      "outputs": [],
      "source": [
        "schools = [\n",
        "    {\"name\":\"Hall School\",\n",
        "     \"description\":\"Spanning 10 states, this school award-winning curriculum includes a comprehensive reading system (from letter recognition and phonics to reading full-length books), as well as math, science, social studies, and even  philosophy.\",\n",
        "     \"class\":\"independent\",\n",
        "     \"type\":\"traditional\",\n",
        "     \"address_city\":\"London\",\n",
        "     \"address_street\":\"Manor Street\",\n",
        "     \"students\":342,\n",
        "     \"location\":\"51.445417, -0.258352\"\n",
        "     },\n",
        "    {\"name\":\"Garden School\",\n",
        "     \"description\":\"Garden School is a new and innovative outdoor teaching and learning experience, offering rich and varied activities in a natural environment to children and families.\",\n",
        "     \"class\":\"state\",\"type\":\"forest; montessori\",\n",
        "     \"address_city\":\"London\",\n",
        "     \"address_street\":\"Gordon Street\",\n",
        "     \"students\":1452,\n",
        "     \"location\":\"51.402926, -0.321523\",\n",
        "     },\n",
        "\n",
        "    {\"name\":\"Gillford School\",\n",
        "     \"description\":\"Gillford School is an inclusive learning centre welcoming people from all walks of life, here invited to step into their role as regenerative agents, creating new pathways into the future and inciting an international movement of cultural, land, and social transformation.\",\n",
        "     \"class\":\"private\",\n",
        "     \"type\":\"democratic; waldorf\",\n",
        "     \"address_city\":\"Goudhurst\",\n",
        "     \"address_street\":\"Goudhurst\",\n",
        "     \"students\":721,\n",
        "     \"location\":\"51.112685, 0.451076\"\n",
        "     },\n",
        "\n",
        "     {\n",
        "     \"name\":\"Forest School\",\n",
        "     \"description\":\"The philosophy behind Forest School is based upon the desire to provide young children with an education that encourages appreciation of the wide world in nature while achieving independence, confidence and high self-esteem. \",\n",
        "     \"class\":\"independent\",\n",
        "     \"type\":\"forest; montessori; democratic\",\n",
        "     \"address_city\":\"Oxford\",\n",
        "     \"address_street\":\"Trident Street\",\n",
        "     \"students\":1200,\n",
        "     \"location\":\"51.781756, -1.123196\"\n",
        "     }\n",
        "    ]\n",
        "#load data in Redis as JSON\n",
        "for id,school in enumerate(schools):\n",
        "    #print(school)\n",
        "    r.hset(f\"school:{id}\", mapping = school)"
      ]
    },
    {
      "cell_type": "code",
      "execution_count": null,
      "metadata": {
        "id": "5NtYQYlPXCIO"
      },
      "outputs": [],
      "source": [
        "!redis-cli $REDIS_CONN keys 'school:*'\n",
        "!echo\n",
        "!redis-cli $REDIS_CONN HGETALL school:1\n",
        "\n"
      ]
    },
    {
      "cell_type": "code",
      "execution_count": null,
      "metadata": {
        "id": "dLTOX799W81e"
      },
      "outputs": [],
      "source": [
        "#!redis-cli $REDIS_CONN flushdb"
      ]
    },
    {
      "cell_type": "markdown",
      "metadata": {
        "id": "jpJW1d87lIJr"
      },
      "source": [
        "## RediSearch\n",
        "\n",
        "RediSearch adds the ability to query data in your HASH or JSON data structures, essentially turning Redis into the docuemnt database.\n",
        "\n",
        "With RediSearch you declare indices once and then every database object matching the prefix, defined in the index would be automatically and in real time added to the index.\n",
        "\n",
        "For the full list of RediSearch commands see: https://redis.io/commands/?group=search\n",
        "\n",
        "Python documentation: https://redis-py.readthedocs.io/en/stable/redismodules.html#redisearch-commands"
      ]
    },
    {
      "cell_type": "code",
      "execution_count": null,
      "metadata": {
        "id": "O_2g-lCadPsB"
      },
      "outputs": [],
      "source": [
        "from redis.commands.search.field import (\n",
        "    NumericField,\n",
        "    TagField,\n",
        "    TextField,\n",
        "    GeoField,\n",
        "    VectorField\n",
        ")\n",
        "from redis.commands.search.indexDefinition import IndexDefinition, IndexType\n",
        "from redis.commands.search.query import Query\n",
        "from redis.commands.search.aggregation import AggregateRequest\n",
        "from redis.commands.search import reducers\n",
        "schema = (\n",
        "    TextField(\"name\", as_name=\"name\"),\n",
        "    TextField(\"description\", as_name=\"description\"),\n",
        "    TagField(\"address_city\", as_name=\"city\"),\n",
        "    TagField(\"type\", as_name=\"type\", separator=\";\"),\n",
        "    NumericField(\"students\", as_name=\"students\"),\n",
        "    GeoField(\"location\", as_name=\"location\")\n",
        "    )\n",
        "r.ft(\"idx:schools\").create_index(schema,\n",
        "                    definition=IndexDefinition(prefix=[\"school:\"],\n",
        "                    index_type=IndexType.HASH)\n",
        "                    )"
      ]
    },
    {
      "cell_type": "code",
      "execution_count": null,
      "metadata": {
        "id": "BpiI463CfqE0"
      },
      "outputs": [],
      "source": [
        "#Retrieve index information\n",
        "r.ft(\"idx:schools\").info()\n"
      ]
    },
    {
      "cell_type": "code",
      "execution_count": null,
      "metadata": {
        "id": "JKNoRQ3XejVI"
      },
      "outputs": [],
      "source": [
        "import pandas as pd\n",
        "\n",
        "#helper function to display results of redis.ft().search() as a dataframe\n",
        "def display_ft(res):\n",
        "  if res.total==0:\n",
        "    print(\"No matches found\")\n",
        "  else:\n",
        "    res_df = pd.DataFrame([t.__dict__ for t in res.docs ]).drop(columns=[\"payload\"])\n",
        "    display(res_df)\n",
        "\n",
        "#helper function to translate aggregate result to dataframe and display it\n",
        "#function is created with the help of ChatGPT: https://chat.openai.com/share/fc4e4ea5-d421-4aaf-a1b2-6fac02c96f20\n",
        "def display_ft_agg(res):\n",
        "  data = res.rows\n",
        "  data = [[item.decode('utf-8') for item in sublist] for sublist in data]\n",
        "  column_dict = {}\n",
        "  for sublist in data:\n",
        "      for i in range(0, len(sublist), 2):\n",
        "          column_name = sublist[i]\n",
        "          column_value = sublist[i + 1]\n",
        "          column_dict.setdefault(column_name, []).append(column_value)\n",
        "  df = pd.DataFrame(column_dict)\n",
        "  display(df)"
      ]
    },
    {
      "cell_type": "markdown",
      "metadata": {
        "id": "7RbE1LXrnppU"
      },
      "source": [
        "## Text search\n",
        "\n",
        "You can run full text search queries on any field you marked to be indexed as `TEXT` or `TextField()` in Python.\n",
        "\n",
        "To specify the specific field use `@field:value` syntax.\n",
        "\n",
        "You can also do pattern matching, using `@field:val*`"
      ]
    },
    {
      "cell_type": "code",
      "execution_count": null,
      "metadata": {
        "id": "PKMJeXfpe9Xp"
      },
      "outputs": [],
      "source": [
        "#return the entire document\n",
        "res=r.ft(\"idx:schools\").search(\"nature\")\n",
        "display_ft(res)"
      ]
    },
    {
      "cell_type": "code",
      "execution_count": null,
      "metadata": {
        "id": "OGKiSpQ-hUMp"
      },
      "outputs": [],
      "source": [
        "#Full text search, return selected fields only\n",
        "query=Query(\"nature\") \\\n",
        "   .return_field(\"address_city\", as_field=\"city\") \\\n",
        "   .return_field(\"name\", as_field=\"name\")\n",
        "res=r.ft(\"idx:schools\").search(query)\n",
        "display_ft(res)\n"
      ]
    },
    {
      "cell_type": "markdown",
      "metadata": {
        "id": "2lAYoosAhMyV"
      },
      "source": [
        "## Search with multiple parameters\n",
        "You can combine conditions on multiple fields using space as a logical AND or pipe `|` as logical OR."
      ]
    },
    {
      "cell_type": "code",
      "execution_count": null,
      "metadata": {
        "id": "GMzQiADog9WG"
      },
      "outputs": [],
      "source": [
        "# Perform a search for documents that have all of the tags (AND condition)\n",
        "query=Query(\"@type:{forest} @type:{montessori}\")\n",
        "res=r.ft(\"idx:schools\").search(query)\n",
        "display_ft(res)\n"
      ]
    },
    {
      "cell_type": "code",
      "execution_count": null,
      "metadata": {
        "id": "gWSTWUxgjrBy"
      },
      "outputs": [],
      "source": [
        "# Perform a search for documents that are either in Goudhurst or of type montessori (OR condition)\n",
        "query=Query(\"(@city:{Goudhurst})|(@type:{montessori})\")\n",
        "res=r.ft(\"idx:schools\").search(query)\n",
        "display_ft(res)"
      ]
    },
    {
      "cell_type": "markdown",
      "metadata": {
        "id": "pnJgWC19lq2C"
      },
      "source": [
        "## TAG, Numeric and Geo search\n",
        "\n",
        "For TAG fields - use `@field:{value}` syntax.\n",
        "\n",
        "Geo radius matches on geo fields with the syntax `@field:[lon lat radius {m|km|mi|ft}]`\n",
        "\n",
        "Numeric ranges look like `@students:[0, 10000]` with square brackets used as inclusive (less or equal, greater or equal) and regular braces for exclusive (less or greater)."
      ]
    },
    {
      "cell_type": "code",
      "execution_count": null,
      "metadata": {
        "id": "z4BeyF7tdoAA"
      },
      "outputs": [],
      "source": [
        "#Geolocation search\n",
        "query = Query('@location:[51.3 0.32 30 km]')\n",
        "res = r.ft('idx:schools').search(query)\n",
        "display_ft(res)"
      ]
    },
    {
      "cell_type": "code",
      "execution_count": null,
      "metadata": {
        "id": "yMK3P7g5j7v5"
      },
      "outputs": [],
      "source": [
        "#Combining Tag and Geo conditions\n",
        "query=Query('@city:{London} @students:[0, 10000]') \\\n",
        "   .return_field(\"address_city\", as_field=\"city\") \\\n",
        "   .return_field(\"name\", as_field=\"name\") \\\n",
        "   .return_field(\"students\", as_field=\"students\")\n",
        "res=r.ft(\"idx:schools\").search(query)\n",
        "display_ft(res)\n",
        "\n"
      ]
    },
    {
      "cell_type": "markdown",
      "metadata": {
        "id": "l9yH6LjsgwGa"
      },
      "source": [
        "## Aggregations\n",
        "Aggregations are a way to process the results of a search query, group, sort and transform them - and extract analytic insights from them. Much like aggregation queries in other databases and search engines, they can be used to create analytics reports, or perform Faceted Search style queries.\n",
        "\n",
        "For example, we can group schools by city and count schools per group, giving us the number of schools per city. Or we could group by school class (independent/state) and see the average number of students per group."
      ]
    },
    {
      "cell_type": "code",
      "execution_count": null,
      "metadata": {
        "id": "KxT1MoDQg2tX"
      },
      "outputs": [],
      "source": [
        "#Perform aggregation by city and count number of records\n",
        "request = AggregateRequest(f'*').group_by('@city', reducers.count().alias('count'))\n",
        "res = r.ft(\"idx:schools\").aggregate(request)\n",
        "display_ft_agg(res)\n",
        "\n"
      ]
    },
    {
      "cell_type": "code",
      "execution_count": null,
      "metadata": {
        "id": "d8VYKmF-7lyT"
      },
      "outputs": [],
      "source": [
        "#Perform aggregation by city and count number of students\n",
        "request = AggregateRequest(f'*').group_by('@city', reducers.sum('@students').alias('students_count'))\n",
        "res = r.ft(\"idx:schools\").aggregate(request)\n",
        "display_ft_agg(res)"
      ]
    }
  ],
  "metadata": {
    "colab": {
      "provenance": [],
      "include_colab_link": true
    },
    "kernelspec": {
      "display_name": "Python 3",
      "name": "python3"
    },
    "language_info": {
      "name": "python"
    }
  },
  "nbformat": 4,
  "nbformat_minor": 0
}